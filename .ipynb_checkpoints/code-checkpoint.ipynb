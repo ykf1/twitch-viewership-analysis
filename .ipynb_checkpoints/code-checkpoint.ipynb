{
 "cells": [
  {
   "cell_type": "code",
   "execution_count": 1,
   "metadata": {},
   "outputs": [],
   "source": [
    "import pandas as pd\n",
    "import matplotlib.pyplot as plt\n",
    "import seaborn as sns"
   ]
  },
  {
   "cell_type": "code",
   "execution_count": 2,
   "metadata": {},
   "outputs": [],
   "source": [
    "filepath = 'C:\\\\Users\\\\XXX\\\\Desktop\\\\Github repositories\\\\video_play.csv'\n",
    "data = pd.read_csv(filepath)"
   ]
  },
  {
   "cell_type": "code",
   "execution_count": 3,
   "metadata": {},
   "outputs": [
    {
     "name": "stdout",
     "output_type": "stream",
     "text": [
      "<class 'pandas.core.frame.DataFrame'>\n",
      "RangeIndex: 526299 entries, 0 to 526298\n",
      "Data columns (total 9 columns):\n",
      " #   Column         Non-Null Count   Dtype \n",
      "---  ------         --------------   ----- \n",
      " 0   time           526299 non-null  object\n",
      " 1   device_id      526271 non-null  object\n",
      " 2   login          526299 non-null  object\n",
      " 3   channel        526299 non-null  object\n",
      " 4   country        509135 non-null  object\n",
      " 5   player         526299 non-null  object\n",
      " 6   game           523175 non-null  object\n",
      " 7   stream_format  267332 non-null  object\n",
      " 8   subscriber     273814 non-null  object\n",
      "dtypes: object(9)\n",
      "memory usage: 36.1+ MB\n"
     ]
    }
   ],
   "source": [
    "data.info()"
   ]
  },
  {
   "cell_type": "code",
   "execution_count": 4,
   "metadata": {},
   "outputs": [
    {
     "data": {
      "text/html": [
       "<div>\n",
       "<style scoped>\n",
       "    .dataframe tbody tr th:only-of-type {\n",
       "        vertical-align: middle;\n",
       "    }\n",
       "\n",
       "    .dataframe tbody tr th {\n",
       "        vertical-align: top;\n",
       "    }\n",
       "\n",
       "    .dataframe thead th {\n",
       "        text-align: right;\n",
       "    }\n",
       "</style>\n",
       "<table border=\"1\" class=\"dataframe\">\n",
       "  <thead>\n",
       "    <tr style=\"text-align: right;\">\n",
       "      <th></th>\n",
       "      <th>time</th>\n",
       "      <th>device_id</th>\n",
       "      <th>login</th>\n",
       "      <th>channel</th>\n",
       "      <th>country</th>\n",
       "      <th>player</th>\n",
       "      <th>game</th>\n",
       "      <th>stream_format</th>\n",
       "      <th>subscriber</th>\n",
       "    </tr>\n",
       "  </thead>\n",
       "  <tbody>\n",
       "    <tr>\n",
       "      <th>0</th>\n",
       "      <td>2015-01-01 18:33:52</td>\n",
       "      <td>40ffc2fa6534cf760becbdbf5311e31ad069e46e</td>\n",
       "      <td>085c1eb7b587bfe654f0df7b4ba7f4fc4013636c</td>\n",
       "      <td>frank</td>\n",
       "      <td>US</td>\n",
       "      <td>iphone_t</td>\n",
       "      <td>League of Legends</td>\n",
       "      <td>NaN</td>\n",
       "      <td>NaN</td>\n",
       "    </tr>\n",
       "    <tr>\n",
       "      <th>1</th>\n",
       "      <td>2015-01-01 23:35:33</td>\n",
       "      <td>9a8cc2b7162b99c0a0f501dc9a5ec4f68586a760</td>\n",
       "      <td>5ad49a7b408ce452140b180dd6efb57a9f4d22c7</td>\n",
       "      <td>george</td>\n",
       "      <td>US</td>\n",
       "      <td>site</td>\n",
       "      <td>DayZ</td>\n",
       "      <td>chunked</td>\n",
       "      <td>False</td>\n",
       "    </tr>\n",
       "    <tr>\n",
       "      <th>2</th>\n",
       "      <td>2015-01-01 04:39:38</td>\n",
       "      <td>2f9c3f9ee1033b71a3819564243f20ef3bec0183</td>\n",
       "      <td>5b9a43e68f019185f55615d0b83019dee4b5d06f</td>\n",
       "      <td>frank</td>\n",
       "      <td>US</td>\n",
       "      <td>site</td>\n",
       "      <td>League of Legends</td>\n",
       "      <td>chunked</td>\n",
       "      <td>False</td>\n",
       "    </tr>\n",
       "    <tr>\n",
       "      <th>3</th>\n",
       "      <td>2015-01-01 11:15:30</td>\n",
       "      <td>0cda8226ba2583424c80c3c1c22c1256b080ad17</td>\n",
       "      <td>02c7797faa4d8a3ff4b0c14ee1764b6817b53d0b</td>\n",
       "      <td>estelle</td>\n",
       "      <td>CH</td>\n",
       "      <td>site</td>\n",
       "      <td>Dota 2</td>\n",
       "      <td>high</td>\n",
       "      <td>False</td>\n",
       "    </tr>\n",
       "    <tr>\n",
       "      <th>4</th>\n",
       "      <td>2015-01-01 11:28:19</td>\n",
       "      <td>e3288ca5e3153aa85e32f64cdd994b7666968dcf</td>\n",
       "      <td>b920c228acbcbebee26d9c79f6eb73b73a9480c7</td>\n",
       "      <td>morty</td>\n",
       "      <td>FR</td>\n",
       "      <td>site</td>\n",
       "      <td>Heroes of the Storm</td>\n",
       "      <td>medium</td>\n",
       "      <td>False</td>\n",
       "    </tr>\n",
       "    <tr>\n",
       "      <th>5</th>\n",
       "      <td>2015-01-01 23:27:36</td>\n",
       "      <td>343fe2bfd58595d5c18602d420ecf6f9d694d5a8</td>\n",
       "      <td>7814f661a54349ff5eee84f9d6f476918c9b7270</td>\n",
       "      <td>george</td>\n",
       "      <td>US</td>\n",
       "      <td>iphone_t</td>\n",
       "      <td>DayZ</td>\n",
       "      <td>NaN</td>\n",
       "      <td>NaN</td>\n",
       "    </tr>\n",
       "    <tr>\n",
       "      <th>6</th>\n",
       "      <td>2015-01-01 21:09:23</td>\n",
       "      <td>80a0c7d1abb6a5a0060e18202b77bef831e08ca5</td>\n",
       "      <td>eb158cab3f606d3894a32e20bddbfd2d589095a9</td>\n",
       "      <td>frank</td>\n",
       "      <td>US</td>\n",
       "      <td>site</td>\n",
       "      <td>League of Legends</td>\n",
       "      <td>high</td>\n",
       "      <td>True</td>\n",
       "    </tr>\n",
       "    <tr>\n",
       "      <th>7</th>\n",
       "      <td>2015-01-01 19:14:27</td>\n",
       "      <td>1e342e5e4e228f617449029054b3bb19c5224528</td>\n",
       "      <td>2aaf6a414bc3dc923b04f986de7ba1b8101c6698</td>\n",
       "      <td>frank</td>\n",
       "      <td>CA</td>\n",
       "      <td>site</td>\n",
       "      <td>League of Legends</td>\n",
       "      <td>high</td>\n",
       "      <td>False</td>\n",
       "    </tr>\n",
       "    <tr>\n",
       "      <th>8</th>\n",
       "      <td>2015-01-01 13:51:04</td>\n",
       "      <td>272cffbb1a9a33ad3bb48a2ee9ae5cbcac5ca22e</td>\n",
       "      <td>401716920e3435b5e3eec9fc4ccd6a44c7af38f5</td>\n",
       "      <td>kramer</td>\n",
       "      <td>TR</td>\n",
       "      <td>site</td>\n",
       "      <td>Counter-Strike: Global Offensive</td>\n",
       "      <td>chunked</td>\n",
       "      <td>False</td>\n",
       "    </tr>\n",
       "    <tr>\n",
       "      <th>9</th>\n",
       "      <td>2015-01-01 22:00:14</td>\n",
       "      <td>593ed161c456eeeb9e18b8005786d42abc1a7373</td>\n",
       "      <td>ef24dc49ceb4bcd3cccb0fa862d8a150ecf935e1</td>\n",
       "      <td>frank</td>\n",
       "      <td>US</td>\n",
       "      <td>site</td>\n",
       "      <td>League of Legends</td>\n",
       "      <td>medium</td>\n",
       "      <td>False</td>\n",
       "    </tr>\n",
       "  </tbody>\n",
       "</table>\n",
       "</div>"
      ],
      "text/plain": [
       "                  time                                 device_id  \\\n",
       "0  2015-01-01 18:33:52  40ffc2fa6534cf760becbdbf5311e31ad069e46e   \n",
       "1  2015-01-01 23:35:33  9a8cc2b7162b99c0a0f501dc9a5ec4f68586a760   \n",
       "2  2015-01-01 04:39:38  2f9c3f9ee1033b71a3819564243f20ef3bec0183   \n",
       "3  2015-01-01 11:15:30  0cda8226ba2583424c80c3c1c22c1256b080ad17   \n",
       "4  2015-01-01 11:28:19  e3288ca5e3153aa85e32f64cdd994b7666968dcf   \n",
       "5  2015-01-01 23:27:36  343fe2bfd58595d5c18602d420ecf6f9d694d5a8   \n",
       "6  2015-01-01 21:09:23  80a0c7d1abb6a5a0060e18202b77bef831e08ca5   \n",
       "7  2015-01-01 19:14:27  1e342e5e4e228f617449029054b3bb19c5224528   \n",
       "8  2015-01-01 13:51:04  272cffbb1a9a33ad3bb48a2ee9ae5cbcac5ca22e   \n",
       "9  2015-01-01 22:00:14  593ed161c456eeeb9e18b8005786d42abc1a7373   \n",
       "\n",
       "                                      login  channel country    player  \\\n",
       "0  085c1eb7b587bfe654f0df7b4ba7f4fc4013636c    frank      US  iphone_t   \n",
       "1  5ad49a7b408ce452140b180dd6efb57a9f4d22c7   george      US      site   \n",
       "2  5b9a43e68f019185f55615d0b83019dee4b5d06f    frank      US      site   \n",
       "3  02c7797faa4d8a3ff4b0c14ee1764b6817b53d0b  estelle      CH      site   \n",
       "4  b920c228acbcbebee26d9c79f6eb73b73a9480c7    morty      FR      site   \n",
       "5  7814f661a54349ff5eee84f9d6f476918c9b7270   george      US  iphone_t   \n",
       "6  eb158cab3f606d3894a32e20bddbfd2d589095a9    frank      US      site   \n",
       "7  2aaf6a414bc3dc923b04f986de7ba1b8101c6698    frank      CA      site   \n",
       "8  401716920e3435b5e3eec9fc4ccd6a44c7af38f5   kramer      TR      site   \n",
       "9  ef24dc49ceb4bcd3cccb0fa862d8a150ecf935e1    frank      US      site   \n",
       "\n",
       "                               game stream_format subscriber  \n",
       "0                 League of Legends           NaN        NaN  \n",
       "1                              DayZ       chunked      False  \n",
       "2                 League of Legends       chunked      False  \n",
       "3                            Dota 2          high      False  \n",
       "4               Heroes of the Storm        medium      False  \n",
       "5                              DayZ           NaN        NaN  \n",
       "6                 League of Legends          high       True  \n",
       "7                 League of Legends          high      False  \n",
       "8  Counter-Strike: Global Offensive       chunked      False  \n",
       "9                 League of Legends        medium      False  "
      ]
     },
     "execution_count": 4,
     "metadata": {},
     "output_type": "execute_result"
    }
   ],
   "source": [
    "data.head(10)"
   ]
  },
  {
   "cell_type": "code",
   "execution_count": 5,
   "metadata": {},
   "outputs": [
    {
     "data": {
      "text/plain": [
       "10629"
      ]
     },
     "execution_count": 5,
     "metadata": {},
     "output_type": "execute_result"
    }
   ],
   "source": [
    "data.duplicated().sum() # Number of duplicated rows across all columns"
   ]
  },
  {
   "cell_type": "code",
   "execution_count": 6,
   "metadata": {},
   "outputs": [
    {
     "data": {
      "text/plain": [
       "0"
      ]
     },
     "execution_count": 6,
     "metadata": {},
     "output_type": "execute_result"
    }
   ],
   "source": [
    "data = data.drop_duplicates(keep='first') # Drop duplicated rows\n",
    "data.duplicated().sum() # Check if no duplicated rows are left in the new dataframe"
   ]
  },
  {
   "cell_type": "code",
   "execution_count": 7,
   "metadata": {},
   "outputs": [
    {
     "data": {
      "text/plain": [
       "515670"
      ]
     },
     "execution_count": 7,
     "metadata": {},
     "output_type": "execute_result"
    }
   ],
   "source": [
    "len(data) # Sanity check: 526,299 (inital total rows) - 10,629 (duplicates) = 515,670"
   ]
  },
  {
   "cell_type": "code",
   "execution_count": 8,
   "metadata": {},
   "outputs": [
    {
     "name": "stdout",
     "output_type": "stream",
     "text": [
      "<class 'pandas.core.frame.DataFrame'>\n",
      "Int64Index: 515670 entries, 0 to 526298\n",
      "Data columns (total 9 columns):\n",
      " #   Column         Non-Null Count   Dtype \n",
      "---  ------         --------------   ----- \n",
      " 0   time           515670 non-null  object\n",
      " 1   device_id      515642 non-null  object\n",
      " 2   login          515670 non-null  object\n",
      " 3   channel        515670 non-null  object\n",
      " 4   country        498933 non-null  object\n",
      " 5   player         515670 non-null  object\n",
      " 6   game           512655 non-null  object\n",
      " 7   stream_format  267263 non-null  object\n",
      " 8   subscriber     273742 non-null  object\n",
      "dtypes: object(9)\n",
      "memory usage: 39.3+ MB\n"
     ]
    }
   ],
   "source": [
    "data.info()"
   ]
  },
  {
   "cell_type": "code",
   "execution_count": 9,
   "metadata": {},
   "outputs": [
    {
     "data": {
      "text/plain": [
       "3015"
      ]
     },
     "execution_count": 9,
     "metadata": {},
     "output_type": "execute_result"
    }
   ],
   "source": [
    "# Noted that there are null values under the 'game' column\n",
    "# Likely that these users logged in into Twitch but did not view any game.\n",
    "# As such, we will drop these rows since they are not relevant.\n",
    "data['game'].isnull().sum()"
   ]
  },
  {
   "cell_type": "code",
   "execution_count": 10,
   "metadata": {},
   "outputs": [
    {
     "data": {
      "text/html": [
       "<div>\n",
       "<style scoped>\n",
       "    .dataframe tbody tr th:only-of-type {\n",
       "        vertical-align: middle;\n",
       "    }\n",
       "\n",
       "    .dataframe tbody tr th {\n",
       "        vertical-align: top;\n",
       "    }\n",
       "\n",
       "    .dataframe thead th {\n",
       "        text-align: right;\n",
       "    }\n",
       "</style>\n",
       "<table border=\"1\" class=\"dataframe\">\n",
       "  <thead>\n",
       "    <tr style=\"text-align: right;\">\n",
       "      <th></th>\n",
       "      <th>time</th>\n",
       "      <th>device_id</th>\n",
       "      <th>login</th>\n",
       "      <th>channel</th>\n",
       "      <th>country</th>\n",
       "      <th>player</th>\n",
       "      <th>game</th>\n",
       "      <th>stream_format</th>\n",
       "      <th>subscriber</th>\n",
       "    </tr>\n",
       "  </thead>\n",
       "  <tbody>\n",
       "    <tr>\n",
       "      <th>58</th>\n",
       "      <td>2015-01-01 18:01:38</td>\n",
       "      <td>149589c8459fb9fcbbe8156a469356055a084cc6</td>\n",
       "      <td>5390c2cebf5461434538f0e7fe91532d274848ae</td>\n",
       "      <td>newman</td>\n",
       "      <td>RO</td>\n",
       "      <td>android</td>\n",
       "      <td>NaN</td>\n",
       "      <td>NaN</td>\n",
       "      <td>NaN</td>\n",
       "    </tr>\n",
       "    <tr>\n",
       "      <th>479</th>\n",
       "      <td>2015-01-01 10:41:16</td>\n",
       "      <td>5d2f1bfe9763dc52afab136911d18ded2348be38</td>\n",
       "      <td>2493cb24569a2af53811c626cdb918769690b708</td>\n",
       "      <td>elaine</td>\n",
       "      <td>TW</td>\n",
       "      <td>android</td>\n",
       "      <td>NaN</td>\n",
       "      <td>NaN</td>\n",
       "      <td>NaN</td>\n",
       "    </tr>\n",
       "    <tr>\n",
       "      <th>790</th>\n",
       "      <td>2015-01-01 15:26:39</td>\n",
       "      <td>2d79881c43ae7f6407b6d4f875a4f81eb64ae401</td>\n",
       "      <td>7a652cbecca206dddfa661285503c954079cec1c</td>\n",
       "      <td>kramer</td>\n",
       "      <td>GB</td>\n",
       "      <td>iphone_t</td>\n",
       "      <td>NaN</td>\n",
       "      <td>NaN</td>\n",
       "      <td>NaN</td>\n",
       "    </tr>\n",
       "    <tr>\n",
       "      <th>1091</th>\n",
       "      <td>2015-01-01 23:46:28</td>\n",
       "      <td>adcf3cb959a03059f1a837bf4e2f7344bf403697</td>\n",
       "      <td>a97869f15ac9d8ceeb938c428c068930594952b4</td>\n",
       "      <td>george</td>\n",
       "      <td>US</td>\n",
       "      <td>android</td>\n",
       "      <td>NaN</td>\n",
       "      <td>NaN</td>\n",
       "      <td>NaN</td>\n",
       "    </tr>\n",
       "    <tr>\n",
       "      <th>1122</th>\n",
       "      <td>2015-01-01 14:39:54</td>\n",
       "      <td>bbf53a572d72cd6f5bb2a4fbb369a63aac26b4a5</td>\n",
       "      <td>2c320b3d056aa51aadeed6e363e54c4b6a39808e</td>\n",
       "      <td>kramer</td>\n",
       "      <td>DE</td>\n",
       "      <td>android</td>\n",
       "      <td>NaN</td>\n",
       "      <td>NaN</td>\n",
       "      <td>NaN</td>\n",
       "    </tr>\n",
       "    <tr>\n",
       "      <th>...</th>\n",
       "      <td>...</td>\n",
       "      <td>...</td>\n",
       "      <td>...</td>\n",
       "      <td>...</td>\n",
       "      <td>...</td>\n",
       "      <td>...</td>\n",
       "      <td>...</td>\n",
       "      <td>...</td>\n",
       "      <td>...</td>\n",
       "    </tr>\n",
       "    <tr>\n",
       "      <th>525004</th>\n",
       "      <td>2015-01-01 04:43:16</td>\n",
       "      <td>b702613dfb6193a28b93f79adc8ec524dbb7a538</td>\n",
       "      <td>ce15eae468ecb31adcd8292c07e2825879551850</td>\n",
       "      <td>frank</td>\n",
       "      <td>DE</td>\n",
       "      <td>android</td>\n",
       "      <td>NaN</td>\n",
       "      <td>NaN</td>\n",
       "      <td>NaN</td>\n",
       "    </tr>\n",
       "    <tr>\n",
       "      <th>525579</th>\n",
       "      <td>2015-01-01 18:11:45</td>\n",
       "      <td>d0c297d44d46c1f40e6b54259db8fd2dc1071a52</td>\n",
       "      <td>6407442f3ec65966940d506a2069fce861699a40</td>\n",
       "      <td>frank</td>\n",
       "      <td>NaN</td>\n",
       "      <td>xbox_one</td>\n",
       "      <td>NaN</td>\n",
       "      <td>NaN</td>\n",
       "      <td>False</td>\n",
       "    </tr>\n",
       "    <tr>\n",
       "      <th>526116</th>\n",
       "      <td>2015-01-01 18:40:20</td>\n",
       "      <td>6c05ac82896d8856694443f53898ab5f25234660</td>\n",
       "      <td>0d53a6108df534c66cb3c50a72a2376e2873247e</td>\n",
       "      <td>jerry</td>\n",
       "      <td>UA</td>\n",
       "      <td>android</td>\n",
       "      <td>NaN</td>\n",
       "      <td>NaN</td>\n",
       "      <td>NaN</td>\n",
       "    </tr>\n",
       "    <tr>\n",
       "      <th>526122</th>\n",
       "      <td>2015-01-01 02:53:55</td>\n",
       "      <td>1f8236cdd4dc4439339f5a7644613ef9ebc03550</td>\n",
       "      <td>f5a8fd2481e4e50005f20145c7288e4d441b86d3</td>\n",
       "      <td>kramer</td>\n",
       "      <td>US</td>\n",
       "      <td>iphone_t</td>\n",
       "      <td>NaN</td>\n",
       "      <td>NaN</td>\n",
       "      <td>NaN</td>\n",
       "    </tr>\n",
       "    <tr>\n",
       "      <th>526185</th>\n",
       "      <td>2015-01-01 15:33:45</td>\n",
       "      <td>cf8eb3847b5dba141f346e2d9cd0f5017e8ecca7</td>\n",
       "      <td>80a2f5bacf49edcc183b453a9177793e830037be</td>\n",
       "      <td>newman</td>\n",
       "      <td>GB</td>\n",
       "      <td>iphone_t</td>\n",
       "      <td>NaN</td>\n",
       "      <td>NaN</td>\n",
       "      <td>NaN</td>\n",
       "    </tr>\n",
       "  </tbody>\n",
       "</table>\n",
       "<p>3015 rows × 9 columns</p>\n",
       "</div>"
      ],
      "text/plain": [
       "                       time                                 device_id  \\\n",
       "58      2015-01-01 18:01:38  149589c8459fb9fcbbe8156a469356055a084cc6   \n",
       "479     2015-01-01 10:41:16  5d2f1bfe9763dc52afab136911d18ded2348be38   \n",
       "790     2015-01-01 15:26:39  2d79881c43ae7f6407b6d4f875a4f81eb64ae401   \n",
       "1091    2015-01-01 23:46:28  adcf3cb959a03059f1a837bf4e2f7344bf403697   \n",
       "1122    2015-01-01 14:39:54  bbf53a572d72cd6f5bb2a4fbb369a63aac26b4a5   \n",
       "...                     ...                                       ...   \n",
       "525004  2015-01-01 04:43:16  b702613dfb6193a28b93f79adc8ec524dbb7a538   \n",
       "525579  2015-01-01 18:11:45  d0c297d44d46c1f40e6b54259db8fd2dc1071a52   \n",
       "526116  2015-01-01 18:40:20  6c05ac82896d8856694443f53898ab5f25234660   \n",
       "526122  2015-01-01 02:53:55  1f8236cdd4dc4439339f5a7644613ef9ebc03550   \n",
       "526185  2015-01-01 15:33:45  cf8eb3847b5dba141f346e2d9cd0f5017e8ecca7   \n",
       "\n",
       "                                           login channel country    player  \\\n",
       "58      5390c2cebf5461434538f0e7fe91532d274848ae  newman      RO   android   \n",
       "479     2493cb24569a2af53811c626cdb918769690b708  elaine      TW   android   \n",
       "790     7a652cbecca206dddfa661285503c954079cec1c  kramer      GB  iphone_t   \n",
       "1091    a97869f15ac9d8ceeb938c428c068930594952b4  george      US   android   \n",
       "1122    2c320b3d056aa51aadeed6e363e54c4b6a39808e  kramer      DE   android   \n",
       "...                                          ...     ...     ...       ...   \n",
       "525004  ce15eae468ecb31adcd8292c07e2825879551850   frank      DE   android   \n",
       "525579  6407442f3ec65966940d506a2069fce861699a40   frank     NaN  xbox_one   \n",
       "526116  0d53a6108df534c66cb3c50a72a2376e2873247e   jerry      UA   android   \n",
       "526122  f5a8fd2481e4e50005f20145c7288e4d441b86d3  kramer      US  iphone_t   \n",
       "526185  80a2f5bacf49edcc183b453a9177793e830037be  newman      GB  iphone_t   \n",
       "\n",
       "       game stream_format subscriber  \n",
       "58      NaN           NaN        NaN  \n",
       "479     NaN           NaN        NaN  \n",
       "790     NaN           NaN        NaN  \n",
       "1091    NaN           NaN        NaN  \n",
       "1122    NaN           NaN        NaN  \n",
       "...     ...           ...        ...  \n",
       "525004  NaN           NaN        NaN  \n",
       "525579  NaN           NaN      False  \n",
       "526116  NaN           NaN        NaN  \n",
       "526122  NaN           NaN        NaN  \n",
       "526185  NaN           NaN        NaN  \n",
       "\n",
       "[3015 rows x 9 columns]"
      ]
     },
     "execution_count": 10,
     "metadata": {},
     "output_type": "execute_result"
    }
   ],
   "source": [
    "data[data['game'].isnull()] # Noted the NaN values under 'game' column"
   ]
  },
  {
   "cell_type": "code",
   "execution_count": 11,
   "metadata": {},
   "outputs": [
    {
     "data": {
      "text/plain": [
       "512655"
      ]
     },
     "execution_count": 11,
     "metadata": {},
     "output_type": "execute_result"
    }
   ],
   "source": [
    "data = data.dropna(subset=['game']) # Drop rows with missing values under 'game' column\n",
    "len(data) # Sanity check: 515,670 - 3,015 = 512,655"
   ]
  },
  {
   "cell_type": "code",
   "execution_count": 12,
   "metadata": {},
   "outputs": [
    {
     "name": "stdout",
     "output_type": "stream",
     "text": [
      "<class 'pandas.core.frame.DataFrame'>\n",
      "Int64Index: 512655 entries, 0 to 526298\n",
      "Data columns (total 9 columns):\n",
      " #   Column         Non-Null Count   Dtype \n",
      "---  ------         --------------   ----- \n",
      " 0   time           512655 non-null  object\n",
      " 1   device_id      512628 non-null  object\n",
      " 2   login          512655 non-null  object\n",
      " 3   channel        512655 non-null  object\n",
      " 4   country        496062 non-null  object\n",
      " 5   player         512655 non-null  object\n",
      " 6   game           512655 non-null  object\n",
      " 7   stream_format  267263 non-null  object\n",
      " 8   subscriber     272964 non-null  object\n",
      "dtypes: object(9)\n",
      "memory usage: 39.1+ MB\n"
     ]
    }
   ],
   "source": [
    "data.info()"
   ]
  },
  {
   "cell_type": "code",
   "execution_count": 13,
   "metadata": {},
   "outputs": [
    {
     "data": {
      "text/plain": [
       "time              80658\n",
       "device_id        266939\n",
       "login            257659\n",
       "channel              10\n",
       "country             166\n",
       "player               16\n",
       "game                 41\n",
       "stream_format         5\n",
       "subscriber            2\n",
       "dtype: int64"
      ]
     },
     "execution_count": 13,
     "metadata": {},
     "output_type": "execute_result"
    }
   ],
   "source": [
    "# Question 1: What are the most popular games streamed on Twitch on Jan 1, 2015?\n",
    "# This question is about the total unique viewers by game.\n",
    "# Important to take note of cases of a single user viewing the same game logging in more than once.\n",
    "data.nunique()"
   ]
  },
  {
   "cell_type": "code",
   "execution_count": 14,
   "metadata": {},
   "outputs": [
    {
     "data": {
      "text/html": [
       "<div>\n",
       "<style scoped>\n",
       "    .dataframe tbody tr th:only-of-type {\n",
       "        vertical-align: middle;\n",
       "    }\n",
       "\n",
       "    .dataframe tbody tr th {\n",
       "        vertical-align: top;\n",
       "    }\n",
       "\n",
       "    .dataframe thead th {\n",
       "        text-align: right;\n",
       "    }\n",
       "</style>\n",
       "<table border=\"1\" class=\"dataframe\">\n",
       "  <thead>\n",
       "    <tr style=\"text-align: right;\">\n",
       "      <th></th>\n",
       "      <th>login</th>\n",
       "      <th>time</th>\n",
       "    </tr>\n",
       "  </thead>\n",
       "  <tbody>\n",
       "    <tr>\n",
       "      <th>194849</th>\n",
       "      <td>c1711a32f523d4658428f22074162d25db3e8c92</td>\n",
       "      <td>227</td>\n",
       "    </tr>\n",
       "    <tr>\n",
       "      <th>192006</th>\n",
       "      <td>be95fab358b45e0493b38ed5f0a0ff1fe9481214</td>\n",
       "      <td>148</td>\n",
       "    </tr>\n",
       "    <tr>\n",
       "      <th>179220</th>\n",
       "      <td>b20652a7710a75ef807bac66a17cf0d68ecb8543</td>\n",
       "      <td>113</td>\n",
       "    </tr>\n",
       "    <tr>\n",
       "      <th>61641</th>\n",
       "      <td>3d2dea759acb10c3d4f3dace02209ebf68402415</td>\n",
       "      <td>94</td>\n",
       "    </tr>\n",
       "    <tr>\n",
       "      <th>63472</th>\n",
       "      <td>3f108d4648b2235eed1bddf80daa412b0be7d61b</td>\n",
       "      <td>91</td>\n",
       "    </tr>\n",
       "    <tr>\n",
       "      <th>61076</th>\n",
       "      <td>3c98e4723dcb61cbb60e759cca36a25a02c2a461</td>\n",
       "      <td>90</td>\n",
       "    </tr>\n",
       "    <tr>\n",
       "      <th>101079</th>\n",
       "      <td>644c5749d84c18553123dd02afac13d8fcfc5e5e</td>\n",
       "      <td>89</td>\n",
       "    </tr>\n",
       "    <tr>\n",
       "      <th>166093</th>\n",
       "      <td>a4d067e01da923d854bc8ff5422367c3609808b4</td>\n",
       "      <td>83</td>\n",
       "    </tr>\n",
       "    <tr>\n",
       "      <th>63775</th>\n",
       "      <td>3f6505192f7113ac616de5dab70571ce4277791c</td>\n",
       "      <td>79</td>\n",
       "    </tr>\n",
       "    <tr>\n",
       "      <th>53512</th>\n",
       "      <td>3502e1d0a11eda174d9a9454016a2bf5595f51da</td>\n",
       "      <td>78</td>\n",
       "    </tr>\n",
       "  </tbody>\n",
       "</table>\n",
       "</div>"
      ],
      "text/plain": [
       "                                           login  time\n",
       "194849  c1711a32f523d4658428f22074162d25db3e8c92   227\n",
       "192006  be95fab358b45e0493b38ed5f0a0ff1fe9481214   148\n",
       "179220  b20652a7710a75ef807bac66a17cf0d68ecb8543   113\n",
       "61641   3d2dea759acb10c3d4f3dace02209ebf68402415    94\n",
       "63472   3f108d4648b2235eed1bddf80daa412b0be7d61b    91\n",
       "61076   3c98e4723dcb61cbb60e759cca36a25a02c2a461    90\n",
       "101079  644c5749d84c18553123dd02afac13d8fcfc5e5e    89\n",
       "166093  a4d067e01da923d854bc8ff5422367c3609808b4    83\n",
       "63775   3f6505192f7113ac616de5dab70571ce4277791c    79\n",
       "53512   3502e1d0a11eda174d9a9454016a2bf5595f51da    78"
      ]
     },
     "execution_count": 14,
     "metadata": {},
     "output_type": "execute_result"
    }
   ],
   "source": [
    "# Noted that there are 257,659 unique values under 'login' column, meaning that a user \n",
    "# may log in more than once on Twitch, for example, below are the users that have logged in the most frequently in a day.\n",
    "data_unique_logins = data.groupby('login').count()['time'].reset_index()\n",
    "data_unique_logins.nlargest(10, 'time')"
   ]
  },
  {
   "cell_type": "code",
   "execution_count": 15,
   "metadata": {},
   "outputs": [
    {
     "data": {
      "text/html": [
       "<div>\n",
       "<style scoped>\n",
       "    .dataframe tbody tr th:only-of-type {\n",
       "        vertical-align: middle;\n",
       "    }\n",
       "\n",
       "    .dataframe tbody tr th {\n",
       "        vertical-align: top;\n",
       "    }\n",
       "\n",
       "    .dataframe thead th {\n",
       "        text-align: right;\n",
       "    }\n",
       "</style>\n",
       "<table border=\"1\" class=\"dataframe\">\n",
       "  <thead>\n",
       "    <tr style=\"text-align: right;\">\n",
       "      <th></th>\n",
       "      <th>time</th>\n",
       "    </tr>\n",
       "  </thead>\n",
       "  <tbody>\n",
       "    <tr>\n",
       "      <th>count</th>\n",
       "      <td>257659.000000</td>\n",
       "    </tr>\n",
       "    <tr>\n",
       "      <th>mean</th>\n",
       "      <td>1.989665</td>\n",
       "    </tr>\n",
       "    <tr>\n",
       "      <th>std</th>\n",
       "      <td>2.363027</td>\n",
       "    </tr>\n",
       "    <tr>\n",
       "      <th>min</th>\n",
       "      <td>1.000000</td>\n",
       "    </tr>\n",
       "    <tr>\n",
       "      <th>25%</th>\n",
       "      <td>1.000000</td>\n",
       "    </tr>\n",
       "    <tr>\n",
       "      <th>50%</th>\n",
       "      <td>1.000000</td>\n",
       "    </tr>\n",
       "    <tr>\n",
       "      <th>75%</th>\n",
       "      <td>2.000000</td>\n",
       "    </tr>\n",
       "    <tr>\n",
       "      <th>max</th>\n",
       "      <td>227.000000</td>\n",
       "    </tr>\n",
       "  </tbody>\n",
       "</table>\n",
       "</div>"
      ],
      "text/plain": [
       "                time\n",
       "count  257659.000000\n",
       "mean        1.989665\n",
       "std         2.363027\n",
       "min         1.000000\n",
       "25%         1.000000\n",
       "50%         1.000000\n",
       "75%         2.000000\n",
       "max       227.000000"
      ]
     },
     "execution_count": 15,
     "metadata": {},
     "output_type": "execute_result"
    }
   ],
   "source": [
    "# Statistical distribution of unique logins (median=1, mean=2, with majority of users logging in once or twice in the day)\n",
    "data_unique_logins.describe()"
   ]
  },
  {
   "cell_type": "code",
   "execution_count": 16,
   "metadata": {},
   "outputs": [
    {
     "data": {
      "text/plain": [
       "game\n",
       "League of Legends                   89544\n",
       "Dota 2                              44762\n",
       "Counter-Strike: Global Offensive    37114\n",
       "Heroes of the Storm                 20038\n",
       "DayZ                                16513\n",
       "Gaming Talk Shows                   15790\n",
       "The Binding of Isaac: Rebirth       14495\n",
       "Agar.io                              8867\n",
       "Hearthstone: Heroes of Warcraft      7400\n",
       "World of Tanks                       6821\n",
       "Rocket League                        4779\n",
       "SpeedRunners                         2553\n",
       "ARK: Survival Evolved                1682\n",
       "Duck Game                             849\n",
       "Fallout 3                             313\n",
       "Devil May Cry 4: Special Edition      209\n",
       "Batman: Arkham Knight                  73\n",
       "Breaking Point                         68\n",
       "The Witcher 3: Wild Hunt               19\n",
       "Reign Of Kings                         14\n",
       "Depth                                  11\n",
       "Mortal Kombat X                         9\n",
       "Super Mario Bros.                       5\n",
       "H1Z1                                    5\n",
       "Grand Theft Auto V                      4\n",
       "Music                                   3\n",
       "Block N Load                            3\n",
       "Senran Kagura: Estival Versus           2\n",
       "The Elder Scrolls V: Skyrim             2\n",
       "The Last of Us                          2\n",
       "Risk of Rain                            1\n",
       "Lucius                                  1\n",
       "Besiege                                 1\n",
       "Blackjack                               1\n",
       "The Sims 4                              1\n",
       "Bridge Constructor Medieval             1\n",
       "Choice Chamber                          1\n",
       "Cities: Skylines                        1\n",
       "Hektor                                  1\n",
       "Super Mario Bros. 3                     1\n",
       "You Must Build A Boat                   1\n",
       "Name: login, dtype: int64"
      ]
     },
     "execution_count": 16,
     "metadata": {},
     "output_type": "execute_result"
    }
   ],
   "source": [
    "# Perform group by on 'game' and 'login' to obtain unique combinations of these two columns,\n",
    "# essentially dropping rows of viewers who view each game more than the first time.\n",
    "data_1 = data.groupby(['game', 'login']).count()['time'].reset_index()\n",
    "# Group by on 'game' again to obtain the count of distinct viewers\n",
    "data_1 = data_1.groupby('game').count()['login'].sort_values(ascending=False)\n",
    "data_1"
   ]
  },
  {
   "cell_type": "code",
   "execution_count": 17,
   "metadata": {},
   "outputs": [
    {
     "data": {
      "text/plain": [
       "[Text(0, 0, 'LoL'),\n",
       " Text(1, 0, 'Dota 2'),\n",
       " Text(2, 0, 'CS:GO'),\n",
       " Text(3, 0, 'HotS'),\n",
       " Text(4, 0, 'DayZ'),\n",
       " Text(5, 0, 'GTS'),\n",
       " Text(6, 0, 'Isaac'),\n",
       " Text(7, 0, 'Agar'),\n",
       " Text(8, 0, 'Hearth'),\n",
       " Text(9, 0, 'WoT')]"
      ]
     },
     "execution_count": 17,
     "metadata": {},
     "output_type": "execute_result"
    },
    {
     "data": {
      "image/png": "[encoded data removed]",
      "text/plain": [
       "<Figure size 432x288 with 1 Axes>"
      ]
     },
     "metadata": {
      "needs_background": "light"
     },
     "output_type": "display_data"
    }
   ],
   "source": [
    "# We selected the top 10 games to be used for plotting bar chart (LoL to WoT)\n",
    "data_1a = data_1.nlargest(10)\n",
    "\n",
    "# Plot barchart of top viewed games\n",
    "x = ['LoL', 'Dota 2', 'CS:GO', 'HotS', 'DayZ', 'GTS', 'Isaac', 'Agar', 'Hearth', 'WoT']\n",
    "y = data_1a\n",
    "\n",
    "ax = plt.subplot()\n",
    "plt.bar(range(len(x)), y)\n",
    "plt.title('Most watched games on Twitch on Jan 1, 2015 by unique users')\n",
    "plt.ylabel('Viewer count')\n",
    "plt.xlabel('Game')\n",
    "ax.set_xticks(range(len(x)))\n",
    "ax.set_xticklabels(x, rotation = 30)"
   ]
  },
  {
   "cell_type": "code",
   "execution_count": 18,
   "metadata": {},
   "outputs": [
    {
     "name": "stdout",
     "output_type": "stream",
     "text": [
      "<class 'pandas.core.frame.DataFrame'>\n",
      "Int64Index: 512655 entries, 0 to 526298\n",
      "Data columns (total 9 columns):\n",
      " #   Column         Non-Null Count   Dtype \n",
      "---  ------         --------------   ----- \n",
      " 0   time           512655 non-null  object\n",
      " 1   device_id      512628 non-null  object\n",
      " 2   login          512655 non-null  object\n",
      " 3   channel        512655 non-null  object\n",
      " 4   country        496062 non-null  object\n",
      " 5   player         512655 non-null  object\n",
      " 6   game           512655 non-null  object\n",
      " 7   stream_format  267263 non-null  object\n",
      " 8   subscriber     272964 non-null  object\n",
      "dtypes: object(9)\n",
      "memory usage: 39.1+ MB\n"
     ]
    }
   ],
   "source": [
    "# Question 2: Which countries are viewers originating from?\n",
    "# This question is about the total unique viewers by country.\n",
    "# Similarly, to take note of cases of a single user logging in more than once.\n",
    "data.info()"
   ]
  },
  {
   "cell_type": "code",
   "execution_count": 19,
   "metadata": {},
   "outputs": [
    {
     "data": {
      "text/plain": [
       "16593"
      ]
     },
     "execution_count": 19,
     "metadata": {},
     "output_type": "execute_result"
    }
   ],
   "source": [
    "data['country'].isnull().sum() # Number of null values in 'country' column"
   ]
  },
  {
   "cell_type": "code",
   "execution_count": 20,
   "metadata": {},
   "outputs": [
    {
     "data": {
      "text/plain": [
       "496062"
      ]
     },
     "execution_count": 20,
     "metadata": {},
     "output_type": "execute_result"
    }
   ],
   "source": [
    "data_2 = data.dropna(subset=['country']) # Drop missing values in 'country' column\n",
    "len(data_2) # Sanity check: 512,655 - 16,593 = 496,062"
   ]
  },
  {
   "cell_type": "code",
   "execution_count": 21,
   "metadata": {},
   "outputs": [
    {
     "data": {
      "text/plain": [
       "country\n",
       "US    79760\n",
       "DE    16542\n",
       "TW    16537\n",
       "RU    15890\n",
       "CA    12853\n",
       "GB    11239\n",
       "SE     7626\n",
       "PL     6323\n",
       "TR     5403\n",
       "FR     4212\n",
       "BR     4137\n",
       "DK     3989\n",
       "NL     3567\n",
       "UA     3495\n",
       "AU     3383\n",
       "Name: login, dtype: int64"
      ]
     },
     "execution_count": 21,
     "metadata": {},
     "output_type": "execute_result"
    }
   ],
   "source": [
    "# Doing the same group by like in Question 1 to get count of distinct viewers for each country.\n",
    "data_2 = data_2.groupby(['country', 'login']).count()['time'].reset_index()\n",
    "data_2 = data_2.groupby('country').count()['login'].sort_values(ascending=False)\n",
    "data_2.head(15)"
   ]
  },
  {
   "cell_type": "code",
   "execution_count": 22,
   "metadata": {},
   "outputs": [
    {
     "data": {
      "text/plain": [
       "[Text(0.5, 0, 'Country'),\n",
       " Text(0, 0.5, 'Viewer count'),\n",
       " Text(0.5, 1.0, 'Viewer count by country')]"
      ]
     },
     "execution_count": 22,
     "metadata": {},
     "output_type": "execute_result"
    },
    {
     "data": {
      "image/png": "[encoded data removed]",
      "text/plain": [
       "<Figure size 432x288 with 1 Axes>"
      ]
     },
     "metadata": {
      "needs_background": "light"
     },
     "output_type": "display_data"
    }
   ],
   "source": [
    "# We selected the top 10 countries to be used for plotting bar chart\n",
    "data_2a = data_2.nlargest(10).reset_index()\n",
    "\n",
    "# Plot barchart using seaborn this time\n",
    "ax = sns.barplot(data=data_2a, x='country', y='login')\n",
    "ax.set(xlabel='Country', ylabel='Viewer count', title='Viewer count by country')"
   ]
  },
  {
   "cell_type": "code",
   "execution_count": 23,
   "metadata": {},
   "outputs": [
    {
     "data": {
      "text/plain": [
       "805"
      ]
     },
     "execution_count": 23,
     "metadata": {},
     "output_type": "execute_result"
    }
   ],
   "source": [
    "# A lot of viewers are coming from the United States.\n",
    "# On a side note, let's see how many viewers are coming from Singapore ('SG').\n",
    "data_2.loc['SG']"
   ]
  },
  {
   "cell_type": "code",
   "execution_count": 24,
   "metadata": {},
   "outputs": [
    {
     "name": "stdout",
     "output_type": "stream",
     "text": [
      "<class 'pandas.core.frame.DataFrame'>\n",
      "Int64Index: 512655 entries, 0 to 526298\n",
      "Data columns (total 9 columns):\n",
      " #   Column         Non-Null Count   Dtype \n",
      "---  ------         --------------   ----- \n",
      " 0   time           512655 non-null  object\n",
      " 1   device_id      512628 non-null  object\n",
      " 2   login          512655 non-null  object\n",
      " 3   channel        512655 non-null  object\n",
      " 4   country        496062 non-null  object\n",
      " 5   player         512655 non-null  object\n",
      " 6   game           512655 non-null  object\n",
      " 7   stream_format  267263 non-null  object\n",
      " 8   subscriber     272964 non-null  object\n",
      "dtypes: object(9)\n",
      "memory usage: 39.1+ MB\n"
     ]
    }
   ],
   "source": [
    "# Question 3: What are the most common platforms used by Twitch users?\n",
    "# Now let's find out what are the most common platforms used by Twitch users\n",
    "data.info()"
   ]
  },
  {
   "cell_type": "code",
   "execution_count": 25,
   "metadata": {},
   "outputs": [
    {
     "data": {
      "text/plain": [
       "player\n",
       "site             152886\n",
       "android           39433\n",
       "iphone_t          35081\n",
       "ipad_t            22464\n",
       "embed             12197\n",
       "xbox_one           2796\n",
       "home               2007\n",
       "frontpage          1321\n",
       "xbox360             671\n",
       "amazon              488\n",
       "roku                165\n",
       "chromecast          113\n",
       "facebook             78\n",
       "ouya                  3\n",
       "nvidia shield         2\n",
       "android_pip           1\n",
       "Name: login, dtype: int64"
      ]
     },
     "execution_count": 25,
     "metadata": {},
     "output_type": "execute_result"
    }
   ],
   "source": [
    "# Doing the same group by like in above questions to get count of distinct viewers for each platform.\n",
    "data_3 = data.groupby(['player', 'login']).count()['time'].reset_index()\n",
    "data_3 = data_3.groupby('player').count()['login'].sort_values(ascending=False)\n",
    "data_3"
   ]
  },
  {
   "cell_type": "code",
   "execution_count": 26,
   "metadata": {},
   "outputs": [
    {
     "data": {
      "text/plain": [
       "[Text(0, 0, 'site'),\n",
       " Text(1, 0, 'android'),\n",
       " Text(2, 0, 'iphone_t'),\n",
       " Text(3, 0, 'ipad_t'),\n",
       " Text(4, 0, 'embed'),\n",
       " Text(5, 0, 'xbox_one'),\n",
       " Text(6, 0, 'home'),\n",
       " Text(7, 0, 'frontpage'),\n",
       " Text(8, 0, 'xbox360'),\n",
       " Text(9, 0, 'amazon')]"
      ]
     },
     "execution_count": 26,
     "metadata": {},
     "output_type": "execute_result"
    },
    {
     "data": {
      "image/png": "[encoded data removed]",
      "text/plain": [
       "<Figure size 432x288 with 1 Axes>"
      ]
     },
     "metadata": {
      "needs_background": "light"
     },
     "output_type": "display_data"
    }
   ],
   "source": [
    "# Select the top 10 platforms to be used for plotting bar chart\n",
    "data_3 = data_3.nlargest(10)\n",
    "\n",
    "# Plot barchart of platform view count\n",
    "x = data_3.index\n",
    "y = data_3\n",
    "\n",
    "ax = plt.subplot()\n",
    "plt.bar(range(len(x)), y)\n",
    "plt.title('Platform used by users on Twitch on Jan 1, 2015')\n",
    "plt.ylabel('Viewer count')\n",
    "plt.xlabel('Platform')\n",
    "ax.set_xticks(range(len(x)))\n",
    "ax.set_xticklabels(x, rotation = 45)"
   ]
  },
  {
   "cell_type": "code",
   "execution_count": 27,
   "metadata": {},
   "outputs": [
    {
     "data": {
      "text/html": [
       "<div>\n",
       "<style scoped>\n",
       "    .dataframe tbody tr th:only-of-type {\n",
       "        vertical-align: middle;\n",
       "    }\n",
       "\n",
       "    .dataframe tbody tr th {\n",
       "        vertical-align: top;\n",
       "    }\n",
       "\n",
       "    .dataframe thead th {\n",
       "        text-align: right;\n",
       "    }\n",
       "</style>\n",
       "<table border=\"1\" class=\"dataframe\">\n",
       "  <thead>\n",
       "    <tr style=\"text-align: right;\">\n",
       "      <th></th>\n",
       "      <th>game</th>\n",
       "      <th>login</th>\n",
       "    </tr>\n",
       "  </thead>\n",
       "  <tbody>\n",
       "    <tr>\n",
       "      <th>0</th>\n",
       "      <td>Dota 2</td>\n",
       "      <td>447</td>\n",
       "    </tr>\n",
       "    <tr>\n",
       "      <th>1</th>\n",
       "      <td>League of Legends</td>\n",
       "      <td>260</td>\n",
       "    </tr>\n",
       "    <tr>\n",
       "      <th>2</th>\n",
       "      <td>Heroes of the Storm</td>\n",
       "      <td>30</td>\n",
       "    </tr>\n",
       "    <tr>\n",
       "      <th>3</th>\n",
       "      <td>DayZ</td>\n",
       "      <td>26</td>\n",
       "    </tr>\n",
       "    <tr>\n",
       "      <th>4</th>\n",
       "      <td>Counter-Strike: Global Offensive</td>\n",
       "      <td>18</td>\n",
       "    </tr>\n",
       "    <tr>\n",
       "      <th>5</th>\n",
       "      <td>Hearthstone: Heroes of Warcraft</td>\n",
       "      <td>12</td>\n",
       "    </tr>\n",
       "    <tr>\n",
       "      <th>6</th>\n",
       "      <td>Agar.io</td>\n",
       "      <td>6</td>\n",
       "    </tr>\n",
       "    <tr>\n",
       "      <th>7</th>\n",
       "      <td>The Binding of Isaac: Rebirth</td>\n",
       "      <td>5</td>\n",
       "    </tr>\n",
       "    <tr>\n",
       "      <th>8</th>\n",
       "      <td>Gaming Talk Shows</td>\n",
       "      <td>5</td>\n",
       "    </tr>\n",
       "    <tr>\n",
       "      <th>9</th>\n",
       "      <td>ARK: Survival Evolved</td>\n",
       "      <td>5</td>\n",
       "    </tr>\n",
       "    <tr>\n",
       "      <th>10</th>\n",
       "      <td>World of Tanks</td>\n",
       "      <td>4</td>\n",
       "    </tr>\n",
       "    <tr>\n",
       "      <th>11</th>\n",
       "      <td>Rocket League</td>\n",
       "      <td>1</td>\n",
       "    </tr>\n",
       "  </tbody>\n",
       "</table>\n",
       "</div>"
      ],
      "text/plain": [
       "                                game  login\n",
       "0                             Dota 2    447\n",
       "1                  League of Legends    260\n",
       "2                Heroes of the Storm     30\n",
       "3                               DayZ     26\n",
       "4   Counter-Strike: Global Offensive     18\n",
       "5    Hearthstone: Heroes of Warcraft     12\n",
       "6                            Agar.io      6\n",
       "7      The Binding of Isaac: Rebirth      5\n",
       "8                  Gaming Talk Shows      5\n",
       "9              ARK: Survival Evolved      5\n",
       "10                    World of Tanks      4\n",
       "11                     Rocket League      1"
      ]
     },
     "execution_count": 27,
     "metadata": {},
     "output_type": "execute_result"
    }
   ],
   "source": [
    "# Question 4: Does the trend of most popular games viewed on Twitch differ for viewers from Singapore?\n",
    "data_4 = data[data['country'] == 'SG']\n",
    "# Count of distinct viewers for each game\n",
    "data_4 = data_4.groupby(['game', 'login']).count()['time'].reset_index()\n",
    "data_4 = data_4.groupby('game').count()['login'].sort_values(ascending=False).reset_index()\n",
    "data_4"
   ]
  },
  {
   "cell_type": "code",
   "execution_count": 28,
   "metadata": {},
   "outputs": [
    {
     "data": {
      "text/html": [
       "<div>\n",
       "<style scoped>\n",
       "    .dataframe tbody tr th:only-of-type {\n",
       "        vertical-align: middle;\n",
       "    }\n",
       "\n",
       "    .dataframe tbody tr th {\n",
       "        vertical-align: top;\n",
       "    }\n",
       "\n",
       "    .dataframe thead th {\n",
       "        text-align: right;\n",
       "    }\n",
       "</style>\n",
       "<table border=\"1\" class=\"dataframe\">\n",
       "  <thead>\n",
       "    <tr style=\"text-align: right;\">\n",
       "      <th></th>\n",
       "      <th>game</th>\n",
       "      <th>login</th>\n",
       "    </tr>\n",
       "  </thead>\n",
       "  <tbody>\n",
       "    <tr>\n",
       "      <th>3</th>\n",
       "      <td>Dota 2</td>\n",
       "      <td>447</td>\n",
       "    </tr>\n",
       "    <tr>\n",
       "      <th>6</th>\n",
       "      <td>League of Legends</td>\n",
       "      <td>260</td>\n",
       "    </tr>\n",
       "    <tr>\n",
       "      <th>5</th>\n",
       "      <td>Heroes of the Storm</td>\n",
       "      <td>30</td>\n",
       "    </tr>\n",
       "    <tr>\n",
       "      <th>2</th>\n",
       "      <td>DayZ</td>\n",
       "      <td>26</td>\n",
       "    </tr>\n",
       "    <tr>\n",
       "      <th>7</th>\n",
       "      <td>Others</td>\n",
       "      <td>20</td>\n",
       "    </tr>\n",
       "    <tr>\n",
       "      <th>1</th>\n",
       "      <td>Counter-Strike: Global Offensive</td>\n",
       "      <td>18</td>\n",
       "    </tr>\n",
       "    <tr>\n",
       "      <th>4</th>\n",
       "      <td>Hearthstone: Heroes of Warcraft</td>\n",
       "      <td>12</td>\n",
       "    </tr>\n",
       "    <tr>\n",
       "      <th>0</th>\n",
       "      <td>Agar.io</td>\n",
       "      <td>6</td>\n",
       "    </tr>\n",
       "  </tbody>\n",
       "</table>\n",
       "</div>"
      ],
      "text/plain": [
       "                               game  login\n",
       "3                            Dota 2    447\n",
       "6                 League of Legends    260\n",
       "5               Heroes of the Storm     30\n",
       "2                              DayZ     26\n",
       "7                            Others     20\n",
       "1  Counter-Strike: Global Offensive     18\n",
       "4   Hearthstone: Heroes of Warcraft     12\n",
       "0                           Agar.io      6"
      ]
     },
     "execution_count": 28,
     "metadata": {},
     "output_type": "execute_result"
    }
   ],
   "source": [
    "data_4.loc[data_4['login'] < 6, 'game'] = 'Others' # Slicing to amend least viewed games as 'Others'\n",
    "data_4a = data_4.groupby('game').sum()['login'].reset_index().sort_values('login', ascending=False)\n",
    "data_4a"
   ]
  },
  {
   "cell_type": "code",
   "execution_count": 29,
   "metadata": {},
   "outputs": [
    {
     "data": {
      "text/html": [
       "<div>\n",
       "<style scoped>\n",
       "    .dataframe tbody tr th:only-of-type {\n",
       "        vertical-align: middle;\n",
       "    }\n",
       "\n",
       "    .dataframe tbody tr th {\n",
       "        vertical-align: top;\n",
       "    }\n",
       "\n",
       "    .dataframe thead th {\n",
       "        text-align: right;\n",
       "    }\n",
       "</style>\n",
       "<table border=\"1\" class=\"dataframe\">\n",
       "  <thead>\n",
       "    <tr style=\"text-align: right;\">\n",
       "      <th></th>\n",
       "      <th>game</th>\n",
       "      <th>login</th>\n",
       "    </tr>\n",
       "  </thead>\n",
       "  <tbody>\n",
       "    <tr>\n",
       "      <th>0</th>\n",
       "      <td>League of Legends</td>\n",
       "      <td>89544</td>\n",
       "    </tr>\n",
       "    <tr>\n",
       "      <th>1</th>\n",
       "      <td>Dota 2</td>\n",
       "      <td>44762</td>\n",
       "    </tr>\n",
       "    <tr>\n",
       "      <th>2</th>\n",
       "      <td>Counter-Strike: Global Offensive</td>\n",
       "      <td>37114</td>\n",
       "    </tr>\n",
       "    <tr>\n",
       "      <th>3</th>\n",
       "      <td>Heroes of the Storm</td>\n",
       "      <td>20038</td>\n",
       "    </tr>\n",
       "    <tr>\n",
       "      <th>4</th>\n",
       "      <td>DayZ</td>\n",
       "      <td>16513</td>\n",
       "    </tr>\n",
       "    <tr>\n",
       "      <th>5</th>\n",
       "      <td>Gaming Talk Shows</td>\n",
       "      <td>15790</td>\n",
       "    </tr>\n",
       "    <tr>\n",
       "      <th>6</th>\n",
       "      <td>The Binding of Isaac: Rebirth</td>\n",
       "      <td>14495</td>\n",
       "    </tr>\n",
       "    <tr>\n",
       "      <th>7</th>\n",
       "      <td>Agar.io</td>\n",
       "      <td>8867</td>\n",
       "    </tr>\n",
       "    <tr>\n",
       "      <th>8</th>\n",
       "      <td>Hearthstone: Heroes of Warcraft</td>\n",
       "      <td>7400</td>\n",
       "    </tr>\n",
       "    <tr>\n",
       "      <th>9</th>\n",
       "      <td>World of Tanks</td>\n",
       "      <td>6821</td>\n",
       "    </tr>\n",
       "    <tr>\n",
       "      <th>10</th>\n",
       "      <td>Rocket League</td>\n",
       "      <td>4779</td>\n",
       "    </tr>\n",
       "    <tr>\n",
       "      <th>11</th>\n",
       "      <td>SpeedRunners</td>\n",
       "      <td>2553</td>\n",
       "    </tr>\n",
       "    <tr>\n",
       "      <th>12</th>\n",
       "      <td>ARK: Survival Evolved</td>\n",
       "      <td>1682</td>\n",
       "    </tr>\n",
       "    <tr>\n",
       "      <th>13</th>\n",
       "      <td>Duck Game</td>\n",
       "      <td>849</td>\n",
       "    </tr>\n",
       "    <tr>\n",
       "      <th>14</th>\n",
       "      <td>Fallout 3</td>\n",
       "      <td>313</td>\n",
       "    </tr>\n",
       "    <tr>\n",
       "      <th>15</th>\n",
       "      <td>Devil May Cry 4: Special Edition</td>\n",
       "      <td>209</td>\n",
       "    </tr>\n",
       "    <tr>\n",
       "      <th>16</th>\n",
       "      <td>Batman: Arkham Knight</td>\n",
       "      <td>73</td>\n",
       "    </tr>\n",
       "    <tr>\n",
       "      <th>17</th>\n",
       "      <td>Breaking Point</td>\n",
       "      <td>68</td>\n",
       "    </tr>\n",
       "    <tr>\n",
       "      <th>18</th>\n",
       "      <td>The Witcher 3: Wild Hunt</td>\n",
       "      <td>19</td>\n",
       "    </tr>\n",
       "    <tr>\n",
       "      <th>19</th>\n",
       "      <td>Reign Of Kings</td>\n",
       "      <td>14</td>\n",
       "    </tr>\n",
       "    <tr>\n",
       "      <th>20</th>\n",
       "      <td>Depth</td>\n",
       "      <td>11</td>\n",
       "    </tr>\n",
       "    <tr>\n",
       "      <th>21</th>\n",
       "      <td>Mortal Kombat X</td>\n",
       "      <td>9</td>\n",
       "    </tr>\n",
       "    <tr>\n",
       "      <th>22</th>\n",
       "      <td>Super Mario Bros.</td>\n",
       "      <td>5</td>\n",
       "    </tr>\n",
       "    <tr>\n",
       "      <th>23</th>\n",
       "      <td>H1Z1</td>\n",
       "      <td>5</td>\n",
       "    </tr>\n",
       "    <tr>\n",
       "      <th>24</th>\n",
       "      <td>Grand Theft Auto V</td>\n",
       "      <td>4</td>\n",
       "    </tr>\n",
       "    <tr>\n",
       "      <th>25</th>\n",
       "      <td>Music</td>\n",
       "      <td>3</td>\n",
       "    </tr>\n",
       "    <tr>\n",
       "      <th>26</th>\n",
       "      <td>Block N Load</td>\n",
       "      <td>3</td>\n",
       "    </tr>\n",
       "    <tr>\n",
       "      <th>27</th>\n",
       "      <td>Senran Kagura: Estival Versus</td>\n",
       "      <td>2</td>\n",
       "    </tr>\n",
       "    <tr>\n",
       "      <th>28</th>\n",
       "      <td>The Elder Scrolls V: Skyrim</td>\n",
       "      <td>2</td>\n",
       "    </tr>\n",
       "    <tr>\n",
       "      <th>29</th>\n",
       "      <td>The Last of Us</td>\n",
       "      <td>2</td>\n",
       "    </tr>\n",
       "    <tr>\n",
       "      <th>30</th>\n",
       "      <td>Risk of Rain</td>\n",
       "      <td>1</td>\n",
       "    </tr>\n",
       "    <tr>\n",
       "      <th>31</th>\n",
       "      <td>Lucius</td>\n",
       "      <td>1</td>\n",
       "    </tr>\n",
       "    <tr>\n",
       "      <th>32</th>\n",
       "      <td>Besiege</td>\n",
       "      <td>1</td>\n",
       "    </tr>\n",
       "    <tr>\n",
       "      <th>33</th>\n",
       "      <td>Blackjack</td>\n",
       "      <td>1</td>\n",
       "    </tr>\n",
       "    <tr>\n",
       "      <th>34</th>\n",
       "      <td>The Sims 4</td>\n",
       "      <td>1</td>\n",
       "    </tr>\n",
       "    <tr>\n",
       "      <th>35</th>\n",
       "      <td>Bridge Constructor Medieval</td>\n",
       "      <td>1</td>\n",
       "    </tr>\n",
       "    <tr>\n",
       "      <th>36</th>\n",
       "      <td>Choice Chamber</td>\n",
       "      <td>1</td>\n",
       "    </tr>\n",
       "    <tr>\n",
       "      <th>37</th>\n",
       "      <td>Cities: Skylines</td>\n",
       "      <td>1</td>\n",
       "    </tr>\n",
       "    <tr>\n",
       "      <th>38</th>\n",
       "      <td>Hektor</td>\n",
       "      <td>1</td>\n",
       "    </tr>\n",
       "    <tr>\n",
       "      <th>39</th>\n",
       "      <td>Super Mario Bros. 3</td>\n",
       "      <td>1</td>\n",
       "    </tr>\n",
       "    <tr>\n",
       "      <th>40</th>\n",
       "      <td>You Must Build A Boat</td>\n",
       "      <td>1</td>\n",
       "    </tr>\n",
       "  </tbody>\n",
       "</table>\n",
       "</div>"
      ],
      "text/plain": [
       "                                game  login\n",
       "0                  League of Legends  89544\n",
       "1                             Dota 2  44762\n",
       "2   Counter-Strike: Global Offensive  37114\n",
       "3                Heroes of the Storm  20038\n",
       "4                               DayZ  16513\n",
       "5                  Gaming Talk Shows  15790\n",
       "6      The Binding of Isaac: Rebirth  14495\n",
       "7                            Agar.io   8867\n",
       "8    Hearthstone: Heroes of Warcraft   7400\n",
       "9                     World of Tanks   6821\n",
       "10                     Rocket League   4779\n",
       "11                      SpeedRunners   2553\n",
       "12             ARK: Survival Evolved   1682\n",
       "13                         Duck Game    849\n",
       "14                         Fallout 3    313\n",
       "15  Devil May Cry 4: Special Edition    209\n",
       "16             Batman: Arkham Knight     73\n",
       "17                    Breaking Point     68\n",
       "18          The Witcher 3: Wild Hunt     19\n",
       "19                    Reign Of Kings     14\n",
       "20                             Depth     11\n",
       "21                   Mortal Kombat X      9\n",
       "22                 Super Mario Bros.      5\n",
       "23                              H1Z1      5\n",
       "24                Grand Theft Auto V      4\n",
       "25                             Music      3\n",
       "26                      Block N Load      3\n",
       "27     Senran Kagura: Estival Versus      2\n",
       "28       The Elder Scrolls V: Skyrim      2\n",
       "29                    The Last of Us      2\n",
       "30                      Risk of Rain      1\n",
       "31                            Lucius      1\n",
       "32                           Besiege      1\n",
       "33                         Blackjack      1\n",
       "34                        The Sims 4      1\n",
       "35       Bridge Constructor Medieval      1\n",
       "36                    Choice Chamber      1\n",
       "37                  Cities: Skylines      1\n",
       "38                            Hektor      1\n",
       "39               Super Mario Bros. 3      1\n",
       "40             You Must Build A Boat      1"
      ]
     },
     "execution_count": 29,
     "metadata": {},
     "output_type": "execute_result"
    }
   ],
   "source": [
    "# World data (use data_1 dataframe from Question 1)\n",
    "data_1b = data_1.reset_index()\n",
    "data_1b"
   ]
  },
  {
   "cell_type": "code",
   "execution_count": 30,
   "metadata": {},
   "outputs": [
    {
     "data": {
      "text/html": [
       "<div>\n",
       "<style scoped>\n",
       "    .dataframe tbody tr th:only-of-type {\n",
       "        vertical-align: middle;\n",
       "    }\n",
       "\n",
       "    .dataframe tbody tr th {\n",
       "        vertical-align: top;\n",
       "    }\n",
       "\n",
       "    .dataframe thead th {\n",
       "        text-align: right;\n",
       "    }\n",
       "</style>\n",
       "<table border=\"1\" class=\"dataframe\">\n",
       "  <thead>\n",
       "    <tr style=\"text-align: right;\">\n",
       "      <th></th>\n",
       "      <th>game</th>\n",
       "      <th>login</th>\n",
       "    </tr>\n",
       "  </thead>\n",
       "  <tbody>\n",
       "    <tr>\n",
       "      <th>7</th>\n",
       "      <td>League of Legends</td>\n",
       "      <td>89544</td>\n",
       "    </tr>\n",
       "    <tr>\n",
       "      <th>3</th>\n",
       "      <td>Dota 2</td>\n",
       "      <td>44762</td>\n",
       "    </tr>\n",
       "    <tr>\n",
       "      <th>1</th>\n",
       "      <td>Counter-Strike: Global Offensive</td>\n",
       "      <td>37114</td>\n",
       "    </tr>\n",
       "    <tr>\n",
       "      <th>6</th>\n",
       "      <td>Heroes of the Storm</td>\n",
       "      <td>20038</td>\n",
       "    </tr>\n",
       "    <tr>\n",
       "      <th>2</th>\n",
       "      <td>DayZ</td>\n",
       "      <td>16513</td>\n",
       "    </tr>\n",
       "    <tr>\n",
       "      <th>4</th>\n",
       "      <td>Gaming Talk Shows</td>\n",
       "      <td>15790</td>\n",
       "    </tr>\n",
       "    <tr>\n",
       "      <th>10</th>\n",
       "      <td>The Binding of Isaac: Rebirth</td>\n",
       "      <td>14495</td>\n",
       "    </tr>\n",
       "    <tr>\n",
       "      <th>0</th>\n",
       "      <td>Agar.io</td>\n",
       "      <td>8867</td>\n",
       "    </tr>\n",
       "    <tr>\n",
       "      <th>5</th>\n",
       "      <td>Hearthstone: Heroes of Warcraft</td>\n",
       "      <td>7400</td>\n",
       "    </tr>\n",
       "    <tr>\n",
       "      <th>11</th>\n",
       "      <td>World of Tanks</td>\n",
       "      <td>6821</td>\n",
       "    </tr>\n",
       "    <tr>\n",
       "      <th>8</th>\n",
       "      <td>Others</td>\n",
       "      <td>5837</td>\n",
       "    </tr>\n",
       "    <tr>\n",
       "      <th>9</th>\n",
       "      <td>Rocket League</td>\n",
       "      <td>4779</td>\n",
       "    </tr>\n",
       "  </tbody>\n",
       "</table>\n",
       "</div>"
      ],
      "text/plain": [
       "                                game  login\n",
       "7                  League of Legends  89544\n",
       "3                             Dota 2  44762\n",
       "1   Counter-Strike: Global Offensive  37114\n",
       "6                Heroes of the Storm  20038\n",
       "2                               DayZ  16513\n",
       "4                  Gaming Talk Shows  15790\n",
       "10     The Binding of Isaac: Rebirth  14495\n",
       "0                            Agar.io   8867\n",
       "5    Hearthstone: Heroes of Warcraft   7400\n",
       "11                    World of Tanks   6821\n",
       "8                             Others   5837\n",
       "9                      Rocket League   4779"
      ]
     },
     "execution_count": 30,
     "metadata": {},
     "output_type": "execute_result"
    }
   ],
   "source": [
    "data_1b.loc[data_1b['login'] < 4779, 'game'] = 'Others'\n",
    "data_1b = data_1b.groupby('game').sum()['login'].reset_index().sort_values('login', ascending=False)\n",
    "data_1b"
   ]
  },
  {
   "cell_type": "code",
   "execution_count": 31,
   "metadata": {},
   "outputs": [
    {
     "data": {
      "image/png": "[encoded data removed]",
      "text/plain": [
       "<Figure size 1152x648 with 2 Axes>"
      ]
     },
     "metadata": {},
     "output_type": "display_data"
    }
   ],
   "source": [
    "# Plot the piechart for the SG and world viewers\n",
    "plt.figure(figsize=(16,9))\n",
    "plt.subplot(1,2,1)\n",
    "plt.pie(data_4a['login'], labels=data_4a['game'], autopct='%d%%')\n",
    "plt.axis('equal')\n",
    "plt.title(\"Twitch viewers in Singapore by game\")\n",
    "\n",
    "plt.subplot(1,2,2)\n",
    "plt.pie(data_1b['login'], labels=data_1b['game'], autopct='%d%%')\n",
    "plt.axis('equal')\n",
    "plt.title(\"Twitch viewers in world by game\")\n",
    "\n",
    "plt.tight_layout()"
   ]
  },
  {
   "cell_type": "code",
   "execution_count": 32,
   "metadata": {},
   "outputs": [],
   "source": [
    "# Singapore is interested in generally the same games compared to the rest of the world, but the proportion is different.\n",
    "# For instance, Dota 2 is the most popular in SG while League of Legends is the most popular overall in the world.\n",
    "# Also, there is more diversity of games people watch in the world while in SG 85% of people are mainly interested \n",
    "# in Dota 2 and LoL."
   ]
  },
  {
   "cell_type": "code",
   "execution_count": 33,
   "metadata": {},
   "outputs": [],
   "source": [
    "# Question 5: What is the trend of viewership count during the day? \n",
    "# Is there a time period where there is peak traffic? If yes, what game(s) are driving that peak traffic?"
   ]
  },
  {
   "cell_type": "code",
   "execution_count": 34,
   "metadata": {},
   "outputs": [
    {
     "name": "stdout",
     "output_type": "stream",
     "text": [
      "<class 'pandas.core.frame.DataFrame'>\n",
      "Int64Index: 512655 entries, 0 to 526298\n",
      "Data columns (total 9 columns):\n",
      " #   Column         Non-Null Count   Dtype \n",
      "---  ------         --------------   ----- \n",
      " 0   time           512655 non-null  object\n",
      " 1   device_id      512628 non-null  object\n",
      " 2   login          512655 non-null  object\n",
      " 3   channel        512655 non-null  object\n",
      " 4   country        496062 non-null  object\n",
      " 5   player         512655 non-null  object\n",
      " 6   game           512655 non-null  object\n",
      " 7   stream_format  267263 non-null  object\n",
      " 8   subscriber     272964 non-null  object\n",
      "dtypes: object(9)\n",
      "memory usage: 39.1+ MB\n"
     ]
    }
   ],
   "source": [
    "data.info()"
   ]
  },
  {
   "cell_type": "code",
   "execution_count": 35,
   "metadata": {},
   "outputs": [
    {
     "data": {
      "text/html": [
       "<div>\n",
       "<style scoped>\n",
       "    .dataframe tbody tr th:only-of-type {\n",
       "        vertical-align: middle;\n",
       "    }\n",
       "\n",
       "    .dataframe tbody tr th {\n",
       "        vertical-align: top;\n",
       "    }\n",
       "\n",
       "    .dataframe thead th {\n",
       "        text-align: right;\n",
       "    }\n",
       "</style>\n",
       "<table border=\"1\" class=\"dataframe\">\n",
       "  <thead>\n",
       "    <tr style=\"text-align: right;\">\n",
       "      <th></th>\n",
       "      <th>time</th>\n",
       "      <th>device_id</th>\n",
       "      <th>login</th>\n",
       "      <th>channel</th>\n",
       "      <th>country</th>\n",
       "      <th>player</th>\n",
       "      <th>game</th>\n",
       "      <th>stream_format</th>\n",
       "      <th>subscriber</th>\n",
       "    </tr>\n",
       "  </thead>\n",
       "  <tbody>\n",
       "    <tr>\n",
       "      <th>0</th>\n",
       "      <td>2015-01-01 18:33:52</td>\n",
       "      <td>40ffc2fa6534cf760becbdbf5311e31ad069e46e</td>\n",
       "      <td>085c1eb7b587bfe654f0df7b4ba7f4fc4013636c</td>\n",
       "      <td>frank</td>\n",
       "      <td>US</td>\n",
       "      <td>iphone_t</td>\n",
       "      <td>League of Legends</td>\n",
       "      <td>NaN</td>\n",
       "      <td>NaN</td>\n",
       "    </tr>\n",
       "    <tr>\n",
       "      <th>1</th>\n",
       "      <td>2015-01-01 23:35:33</td>\n",
       "      <td>9a8cc2b7162b99c0a0f501dc9a5ec4f68586a760</td>\n",
       "      <td>5ad49a7b408ce452140b180dd6efb57a9f4d22c7</td>\n",
       "      <td>george</td>\n",
       "      <td>US</td>\n",
       "      <td>site</td>\n",
       "      <td>DayZ</td>\n",
       "      <td>chunked</td>\n",
       "      <td>False</td>\n",
       "    </tr>\n",
       "    <tr>\n",
       "      <th>2</th>\n",
       "      <td>2015-01-01 04:39:38</td>\n",
       "      <td>2f9c3f9ee1033b71a3819564243f20ef3bec0183</td>\n",
       "      <td>5b9a43e68f019185f55615d0b83019dee4b5d06f</td>\n",
       "      <td>frank</td>\n",
       "      <td>US</td>\n",
       "      <td>site</td>\n",
       "      <td>League of Legends</td>\n",
       "      <td>chunked</td>\n",
       "      <td>False</td>\n",
       "    </tr>\n",
       "    <tr>\n",
       "      <th>3</th>\n",
       "      <td>2015-01-01 11:15:30</td>\n",
       "      <td>0cda8226ba2583424c80c3c1c22c1256b080ad17</td>\n",
       "      <td>02c7797faa4d8a3ff4b0c14ee1764b6817b53d0b</td>\n",
       "      <td>estelle</td>\n",
       "      <td>CH</td>\n",
       "      <td>site</td>\n",
       "      <td>Dota 2</td>\n",
       "      <td>high</td>\n",
       "      <td>False</td>\n",
       "    </tr>\n",
       "    <tr>\n",
       "      <th>4</th>\n",
       "      <td>2015-01-01 11:28:19</td>\n",
       "      <td>e3288ca5e3153aa85e32f64cdd994b7666968dcf</td>\n",
       "      <td>b920c228acbcbebee26d9c79f6eb73b73a9480c7</td>\n",
       "      <td>morty</td>\n",
       "      <td>FR</td>\n",
       "      <td>site</td>\n",
       "      <td>Heroes of the Storm</td>\n",
       "      <td>medium</td>\n",
       "      <td>False</td>\n",
       "    </tr>\n",
       "  </tbody>\n",
       "</table>\n",
       "</div>"
      ],
      "text/plain": [
       "                  time                                 device_id  \\\n",
       "0  2015-01-01 18:33:52  40ffc2fa6534cf760becbdbf5311e31ad069e46e   \n",
       "1  2015-01-01 23:35:33  9a8cc2b7162b99c0a0f501dc9a5ec4f68586a760   \n",
       "2  2015-01-01 04:39:38  2f9c3f9ee1033b71a3819564243f20ef3bec0183   \n",
       "3  2015-01-01 11:15:30  0cda8226ba2583424c80c3c1c22c1256b080ad17   \n",
       "4  2015-01-01 11:28:19  e3288ca5e3153aa85e32f64cdd994b7666968dcf   \n",
       "\n",
       "                                      login  channel country    player  \\\n",
       "0  085c1eb7b587bfe654f0df7b4ba7f4fc4013636c    frank      US  iphone_t   \n",
       "1  5ad49a7b408ce452140b180dd6efb57a9f4d22c7   george      US      site   \n",
       "2  5b9a43e68f019185f55615d0b83019dee4b5d06f    frank      US      site   \n",
       "3  02c7797faa4d8a3ff4b0c14ee1764b6817b53d0b  estelle      CH      site   \n",
       "4  b920c228acbcbebee26d9c79f6eb73b73a9480c7    morty      FR      site   \n",
       "\n",
       "                  game stream_format subscriber  \n",
       "0    League of Legends           NaN        NaN  \n",
       "1                 DayZ       chunked      False  \n",
       "2    League of Legends       chunked      False  \n",
       "3               Dota 2          high      False  \n",
       "4  Heroes of the Storm        medium      False  "
      ]
     },
     "execution_count": 35,
     "metadata": {},
     "output_type": "execute_result"
    }
   ],
   "source": [
    "data.head()"
   ]
  },
  {
   "cell_type": "code",
   "execution_count": 36,
   "metadata": {},
   "outputs": [
    {
     "data": {
      "text/html": [
       "<div>\n",
       "<style scoped>\n",
       "    .dataframe tbody tr th:only-of-type {\n",
       "        vertical-align: middle;\n",
       "    }\n",
       "\n",
       "    .dataframe tbody tr th {\n",
       "        vertical-align: top;\n",
       "    }\n",
       "\n",
       "    .dataframe thead th {\n",
       "        text-align: right;\n",
       "    }\n",
       "</style>\n",
       "<table border=\"1\" class=\"dataframe\">\n",
       "  <thead>\n",
       "    <tr style=\"text-align: right;\">\n",
       "      <th></th>\n",
       "      <th>time</th>\n",
       "      <th>device_id</th>\n",
       "      <th>login</th>\n",
       "      <th>channel</th>\n",
       "      <th>country</th>\n",
       "      <th>player</th>\n",
       "      <th>game</th>\n",
       "      <th>stream_format</th>\n",
       "      <th>subscriber</th>\n",
       "      <th>hour</th>\n",
       "    </tr>\n",
       "  </thead>\n",
       "  <tbody>\n",
       "    <tr>\n",
       "      <th>0</th>\n",
       "      <td>2015-01-01 18:33:52</td>\n",
       "      <td>40ffc2fa6534cf760becbdbf5311e31ad069e46e</td>\n",
       "      <td>085c1eb7b587bfe654f0df7b4ba7f4fc4013636c</td>\n",
       "      <td>frank</td>\n",
       "      <td>US</td>\n",
       "      <td>iphone_t</td>\n",
       "      <td>League of Legends</td>\n",
       "      <td>NaN</td>\n",
       "      <td>NaN</td>\n",
       "      <td>18</td>\n",
       "    </tr>\n",
       "    <tr>\n",
       "      <th>1</th>\n",
       "      <td>2015-01-01 23:35:33</td>\n",
       "      <td>9a8cc2b7162b99c0a0f501dc9a5ec4f68586a760</td>\n",
       "      <td>5ad49a7b408ce452140b180dd6efb57a9f4d22c7</td>\n",
       "      <td>george</td>\n",
       "      <td>US</td>\n",
       "      <td>site</td>\n",
       "      <td>DayZ</td>\n",
       "      <td>chunked</td>\n",
       "      <td>False</td>\n",
       "      <td>23</td>\n",
       "    </tr>\n",
       "    <tr>\n",
       "      <th>2</th>\n",
       "      <td>2015-01-01 04:39:38</td>\n",
       "      <td>2f9c3f9ee1033b71a3819564243f20ef3bec0183</td>\n",
       "      <td>5b9a43e68f019185f55615d0b83019dee4b5d06f</td>\n",
       "      <td>frank</td>\n",
       "      <td>US</td>\n",
       "      <td>site</td>\n",
       "      <td>League of Legends</td>\n",
       "      <td>chunked</td>\n",
       "      <td>False</td>\n",
       "      <td>4</td>\n",
       "    </tr>\n",
       "    <tr>\n",
       "      <th>3</th>\n",
       "      <td>2015-01-01 11:15:30</td>\n",
       "      <td>0cda8226ba2583424c80c3c1c22c1256b080ad17</td>\n",
       "      <td>02c7797faa4d8a3ff4b0c14ee1764b6817b53d0b</td>\n",
       "      <td>estelle</td>\n",
       "      <td>CH</td>\n",
       "      <td>site</td>\n",
       "      <td>Dota 2</td>\n",
       "      <td>high</td>\n",
       "      <td>False</td>\n",
       "      <td>11</td>\n",
       "    </tr>\n",
       "    <tr>\n",
       "      <th>4</th>\n",
       "      <td>2015-01-01 11:28:19</td>\n",
       "      <td>e3288ca5e3153aa85e32f64cdd994b7666968dcf</td>\n",
       "      <td>b920c228acbcbebee26d9c79f6eb73b73a9480c7</td>\n",
       "      <td>morty</td>\n",
       "      <td>FR</td>\n",
       "      <td>site</td>\n",
       "      <td>Heroes of the Storm</td>\n",
       "      <td>medium</td>\n",
       "      <td>False</td>\n",
       "      <td>11</td>\n",
       "    </tr>\n",
       "  </tbody>\n",
       "</table>\n",
       "</div>"
      ],
      "text/plain": [
       "                  time                                 device_id  \\\n",
       "0  2015-01-01 18:33:52  40ffc2fa6534cf760becbdbf5311e31ad069e46e   \n",
       "1  2015-01-01 23:35:33  9a8cc2b7162b99c0a0f501dc9a5ec4f68586a760   \n",
       "2  2015-01-01 04:39:38  2f9c3f9ee1033b71a3819564243f20ef3bec0183   \n",
       "3  2015-01-01 11:15:30  0cda8226ba2583424c80c3c1c22c1256b080ad17   \n",
       "4  2015-01-01 11:28:19  e3288ca5e3153aa85e32f64cdd994b7666968dcf   \n",
       "\n",
       "                                      login  channel country    player  \\\n",
       "0  085c1eb7b587bfe654f0df7b4ba7f4fc4013636c    frank      US  iphone_t   \n",
       "1  5ad49a7b408ce452140b180dd6efb57a9f4d22c7   george      US      site   \n",
       "2  5b9a43e68f019185f55615d0b83019dee4b5d06f    frank      US      site   \n",
       "3  02c7797faa4d8a3ff4b0c14ee1764b6817b53d0b  estelle      CH      site   \n",
       "4  b920c228acbcbebee26d9c79f6eb73b73a9480c7    morty      FR      site   \n",
       "\n",
       "                  game stream_format subscriber  hour  \n",
       "0    League of Legends           NaN        NaN    18  \n",
       "1                 DayZ       chunked      False    23  \n",
       "2    League of Legends       chunked      False     4  \n",
       "3               Dota 2          high      False    11  \n",
       "4  Heroes of the Storm        medium      False    11  "
      ]
     },
     "execution_count": 36,
     "metadata": {},
     "output_type": "execute_result"
    }
   ],
   "source": [
    "data_5 = data\n",
    "data_5['hour'] = pd.to_datetime(data_5['time']).dt.hour\n",
    "data_5.head()"
   ]
  },
  {
   "cell_type": "code",
   "execution_count": 37,
   "metadata": {},
   "outputs": [
    {
     "data": {
      "text/plain": [
       "hour\n",
       "0     10574\n",
       "1     10575\n",
       "2     17978\n",
       "3     11340\n",
       "4     10463\n",
       "5      4683\n",
       "6      1024\n",
       "7      6435\n",
       "8      8653\n",
       "9      7417\n",
       "10     9053\n",
       "11    23985\n",
       "12    35990\n",
       "13    31857\n",
       "14    19806\n",
       "15    20388\n",
       "16    18030\n",
       "17    20438\n",
       "18    19842\n",
       "19    19091\n",
       "20    19634\n",
       "21    19737\n",
       "22    14067\n",
       "23    13122\n",
       "Name: login, dtype: int64"
      ]
     },
     "execution_count": 37,
     "metadata": {},
     "output_type": "execute_result"
    }
   ],
   "source": [
    "# Groupby by 'hour' for world data\n",
    "data_5_world = data_5.groupby(['hour', 'login']).count()['time'].reset_index()\n",
    "data_5_world = data_5_world.groupby('hour').count()['login']\n",
    "data_5_world"
   ]
  },
  {
   "cell_type": "code",
   "execution_count": 38,
   "metadata": {},
   "outputs": [
    {
     "data": {
      "text/plain": [
       "hour\n",
       "0      34\n",
       "1      27\n",
       "2      63\n",
       "3      47\n",
       "4      56\n",
       "5      35\n",
       "6       2\n",
       "7       5\n",
       "8      15\n",
       "9       9\n",
       "10     50\n",
       "11    251\n",
       "12    177\n",
       "13    107\n",
       "14      9\n",
       "15     16\n",
       "16     11\n",
       "17     13\n",
       "18     34\n",
       "19     31\n",
       "20     32\n",
       "21     35\n",
       "22     31\n",
       "23     34\n",
       "Name: login, dtype: int64"
      ]
     },
     "execution_count": 38,
     "metadata": {},
     "output_type": "execute_result"
    }
   ],
   "source": [
    "# Groupby by 'hour' for SG data\n",
    "data_5_SG = data_5[data_5['country'] == 'SG']\n",
    "data_5_SG = data_5_SG.groupby(['hour', 'login']).count()['time'].reset_index()\n",
    "data_5_SG = data_5_SG.groupby('hour').count()['login']\n",
    "data_5_SG"
   ]
  },
  {
   "cell_type": "code",
   "execution_count": 39,
   "metadata": {},
   "outputs": [
    {
     "data": {
      "text/plain": [
       "hour\n",
       "0      4425\n",
       "1      3039\n",
       "2      4012\n",
       "3      2613\n",
       "4      2145\n",
       "5      1107\n",
       "6       159\n",
       "7       211\n",
       "8       694\n",
       "9       864\n",
       "10     1506\n",
       "11     5078\n",
       "12     7849\n",
       "13     6782\n",
       "14     5325\n",
       "15     6679\n",
       "16     7051\n",
       "17     8170\n",
       "18     8257\n",
       "19    10037\n",
       "20    12511\n",
       "21    11723\n",
       "22     8382\n",
       "23     7288\n",
       "Name: login, dtype: int64"
      ]
     },
     "execution_count": 39,
     "metadata": {},
     "output_type": "execute_result"
    }
   ],
   "source": [
    "# Groupby by 'hour' for US data, using US here as well since a large percentage of viewers are from US\n",
    "data_5_US = data_5[data_5['country'] == 'US']\n",
    "data_5_US = data_5_US.groupby(['hour', 'login']).count()['time'].reset_index()\n",
    "data_5_US = data_5_US.groupby('hour').count()['login']\n",
    "data_5_US"
   ]
  },
  {
   "cell_type": "code",
   "execution_count": 40,
   "metadata": {},
   "outputs": [
    {
     "data": {
      "text/plain": [
       "[<matplotlib.axis.XTick at 0x28c63681700>,\n",
       " <matplotlib.axis.XTick at 0x28c636816d0>,\n",
       " <matplotlib.axis.XTick at 0x28c6367e250>,\n",
       " <matplotlib.axis.XTick at 0x28c636a1cd0>,\n",
       " <matplotlib.axis.XTick at 0x28c636ae310>,\n",
       " <matplotlib.axis.XTick at 0x28c636ae820>,\n",
       " <matplotlib.axis.XTick at 0x28c636aed30>,\n",
       " <matplotlib.axis.XTick at 0x28c636b4280>,\n",
       " <matplotlib.axis.XTick at 0x28c636b4790>,\n",
       " <matplotlib.axis.XTick at 0x28c636b4ca0>,\n",
       " <matplotlib.axis.XTick at 0x28c636b91f0>,\n",
       " <matplotlib.axis.XTick at 0x28c636b49d0>]"
      ]
     },
     "execution_count": 40,
     "metadata": {},
     "output_type": "execute_result"
    },
    {
     "data": {
      "image/png": "[encoded data removed]",
      "text/plain": [
       "<Figure size 864x864 with 3 Axes>"
      ]
     },
     "metadata": {
      "needs_background": "light"
     },
     "output_type": "display_data"
    }
   ],
   "source": [
    "# Plotting time series graphs for the three seperate data\n",
    "x = range(24)\n",
    "y1 = data_5_world\n",
    "y2 = data_5_SG\n",
    "y3 = data_5_US\n",
    "\n",
    "plt.figure(figsize=(12,12))\n",
    "\n",
    "ax = plt.subplot(2,2,1)\n",
    "plt.plot(x, y1)\n",
    "plt.title('Twitch viewership by hour of day of world on Jan 1, 2015')\n",
    "plt.ylabel('Viewer count')\n",
    "plt.xlabel('Hour')\n",
    "ax.set_xticks(range(0, 24, 2))\n",
    "\n",
    "ax2 = plt.subplot(2,2,2)\n",
    "plt.plot(x, y2)\n",
    "plt.title('Twitch viewership by hour of day of SG on Jan 1, 2015')\n",
    "plt.ylabel('Viewer count')\n",
    "plt.xlabel('Hour')\n",
    "ax2.set_xticks(range(0, 24, 2))\n",
    "\n",
    "ax3 = plt.subplot(2,2,3)\n",
    "plt.plot(x, y3)\n",
    "plt.title('Twitch viewership by hour of day of US on Jan 1, 2015')\n",
    "plt.ylabel('Viewer count')\n",
    "plt.xlabel('Hour')\n",
    "ax3.set_xticks(range(0, 24, 2))"
   ]
  },
  {
   "cell_type": "code",
   "execution_count": 41,
   "metadata": {},
   "outputs": [
    {
     "data": {
      "text/plain": [
       "12    49424\n",
       "13    42507\n",
       "11    33077\n",
       "Name: hour, dtype: int64"
      ]
     },
     "execution_count": 41,
     "metadata": {},
     "output_type": "execute_result"
    }
   ],
   "source": [
    "# Twitch viewership hits the highest viewer count at 12 noon for world. \n",
    "# Similar trend is noted in Singapore, but not in the US, where the spike is at 2000 hours.\n",
    "# Let's investigate which country / game is contributing to this viewership spike for world and Singapore.\n",
    "# We filtered the data for views from 1100 to 1300.\n",
    "data_5 = data_5[data_5['hour'].isin([11, 12, 13])] \n",
    "data_5['hour'].value_counts()"
   ]
  },
  {
   "cell_type": "code",
   "execution_count": 42,
   "metadata": {},
   "outputs": [
    {
     "data": {
      "text/plain": [
       "country  game                            \n",
       "US       Dota 2                              14299\n",
       "         Counter-Strike: Global Offensive     9578\n",
       "DE       Counter-Strike: Global Offensive     4270\n",
       "         Dota 2                               3963\n",
       "RU       Dota 2                               3820\n",
       "         Counter-Strike: Global Offensive     3375\n",
       "GB       Dota 2                               3333\n",
       "         Counter-Strike: Global Offensive     2984\n",
       "CA       Dota 2                               2925\n",
       "PE       Dota 2                               2716\n",
       "BR       Dota 2                               2654\n",
       "PL       Counter-Strike: Global Offensive     2580\n",
       "SE       Dota 2                               2496\n",
       "         Counter-Strike: Global Offensive     2217\n",
       "US       Heroes of the Storm                  2181\n",
       "TR       Dota 2                               1912\n",
       "CA       Counter-Strike: Global Offensive     1757\n",
       "RU       World of Tanks                       1731\n",
       "ID       Dota 2                               1566\n",
       "MY       Dota 2                               1542\n",
       "dtype: int64"
      ]
     },
     "execution_count": 42,
     "metadata": {},
     "output_type": "execute_result"
    }
   ],
   "source": [
    "# Country and game breakdown of viewers at peak viewership\n",
    "data_5[['country', 'game']].value_counts().head(20)"
   ]
  },
  {
   "cell_type": "code",
   "execution_count": 43,
   "metadata": {},
   "outputs": [
    {
     "data": {
      "text/plain": [
       "Dota 2                              67781\n",
       "Counter-Strike: Global Offensive    41586\n",
       "Heroes of the Storm                  8431\n",
       "World of Tanks                       2713\n",
       "Hearthstone: Heroes of Warcraft      2534\n",
       "League of Legends                     909\n",
       "ARK: Survival Evolved                 603\n",
       "The Binding of Isaac: Rebirth         121\n",
       "Agar.io                               114\n",
       "Fallout 3                              78\n",
       "Gaming Talk Shows                      39\n",
       "Batman: Arkham Knight                  26\n",
       "Breaking Point                         22\n",
       "The Witcher 3: Wild Hunt               18\n",
       "Reign Of Kings                         12\n",
       "Mortal Kombat X                         5\n",
       "Super Mario Bros.                       4\n",
       "Block N Load                            3\n",
       "Devil May Cry 4: Special Edition        3\n",
       "Depth                                   2\n",
       "H1Z1                                    1\n",
       "Choice Chamber                          1\n",
       "Hektor                                  1\n",
       "Senran Kagura: Estival Versus           1\n",
       "Name: game, dtype: int64"
      ]
     },
     "execution_count": 43,
     "metadata": {},
     "output_type": "execute_result"
    }
   ],
   "source": [
    "# Game popularity at peak viewership\n",
    "data_5['game'].value_counts()"
   ]
  },
  {
   "cell_type": "code",
   "execution_count": 44,
   "metadata": {},
   "outputs": [
    {
     "data": {
      "text/plain": [
       "Dota 2                              787\n",
       "Counter-Strike: Global Offensive     14\n",
       "Heroes of the Storm                   5\n",
       "Hearthstone: Heroes of Warcraft       5\n",
       "Name: game, dtype: int64"
      ]
     },
     "execution_count": 44,
     "metadata": {},
     "output_type": "execute_result"
    }
   ],
   "source": [
    "# Game popularity in Singapore at peak viewership\n",
    "data_5[data_5['country'] == 'SG']['game'].value_counts()"
   ]
  },
  {
   "cell_type": "code",
   "execution_count": 45,
   "metadata": {},
   "outputs": [],
   "source": [
    "# The peak in game viewership at noon was driven by Dota 2 and Counter-Strike with them accounting for 87% of total views.\n",
    "# Surprisingly, the most popular game for the day League of Legends was not popular at this time (less than 1% of views)\n",
    "# From our findings from Question 4, we know that Dota 2 is the most popular game in Singapore,\n",
    "# which is in line with the similar spike in viewership of Dota 2 at noon for Singapore."
   ]
  }
 ],
 "metadata": {
  "kernelspec": {
   "display_name": "Python 3",
   "language": "python",
   "name": "python3"
  },
  "language_info": {
   "codemirror_mode": {
    "name": "ipython",
    "version": 3
   },
   "file_extension": ".py",
   "mimetype": "text/x-python",
   "name": "python",
   "nbconvert_exporter": "python",
   "pygments_lexer": "ipython3",
   "version": "3.8.5"
  }
 },
 "nbformat": 4,
 "nbformat_minor": 4
}
